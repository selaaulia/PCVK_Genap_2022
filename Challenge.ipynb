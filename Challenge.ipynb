{
  "nbformat": 4,
  "nbformat_minor": 0,
  "metadata": {
    "colab": {
      "name": "Challenge",
      "provenance": [],
      "collapsed_sections": [],
      "authorship_tag": "ABX9TyMS/uz3dEMtkRHEnSpgCnuP",
      "include_colab_link": true
    },
    "kernelspec": {
      "name": "python3",
      "display_name": "Python 3"
    },
    "language_info": {
      "name": "python"
    }
  },
  "cells": [
    {
      "cell_type": "markdown",
      "metadata": {
        "id": "view-in-github",
        "colab_type": "text"
      },
      "source": [
        "<a href=\"https://colab.research.google.com/github/selaaulia/PCVK_Genap_2022/blob/main/Challenge.ipynb\" target=\"_parent\"><img src=\"https://colab.research.google.com/assets/colab-badge.svg\" alt=\"Open In Colab\"/></a>"
      ]
    },
    {
      "cell_type": "markdown",
      "source": [
        "**1. PERKALIAN MATRIKS SKALAR**\n",
        "\n",
        "Perkalian matriks yang dilakukab dengan cara konstanta yang artinya nilai matriks bisa dikalikan dengan cara mengalikan setiap elemn atau komponen nilai dengan skalar"
      ],
      "metadata": {
        "id": "YGHByo4wU6A1"
      }
    },
    {
      "cell_type": "code",
      "source": [
        "#Memasukan jumlah kolom dan baris yang akan dibuat pada matriks\n",
        "b = int(input(\"Masukkan jumlah baris matriks: \"))\n",
        "k = int(input(\"Masukkan jumlah kolom matriks: \"))"
      ],
      "metadata": {
        "colab": {
          "base_uri": "https://localhost:8080/"
        },
        "id": "7EDqw4KovPGX",
        "outputId": "264a4487-b732-4c55-a7ac-c8de6ebd1a42"
      },
      "execution_count": 58,
      "outputs": [
        {
          "name": "stdout",
          "output_type": "stream",
          "text": [
            "Masukkan jumlah baris matriks: 2\n",
            "Masukkan jumlah kolom matriks: 2\n"
          ]
        }
      ]
    },
    {
      "cell_type": "code",
      "source": [
        "#Memasukkan bilangan skalar yang akan disimpan pada skalar\n",
        "print(\"\\nMasukkan bilangan skalar: \")\n",
        "skalar = (int(input())) #menyimpan bilangan skalar yang diinputkan\n",
        "\n",
        "mat = [] #menyimpan array dari matriks\n",
        "print(\"\\nMasukkan angka pada matriks: \")\n",
        "\n",
        "for i in range(b):\n",
        "        h=[]\n",
        "        for j in range(k):\n",
        "            h.append(int(input()))\n",
        "        mat.append(h)\n",
        "\n",
        "print(\"Matriks\")\n",
        "for i in range(b): \n",
        "        for j in range(k): \n",
        "            print(mat[i][j], end = \" \") \n",
        "        print() "
      ],
      "metadata": {
        "colab": {
          "base_uri": "https://localhost:8080/"
        },
        "id": "Wf6Rc4GtvK1f",
        "outputId": "6b7cfc69-0ddf-48bf-cd36-453a3a710aac"
      },
      "execution_count": 65,
      "outputs": [
        {
          "output_type": "stream",
          "name": "stdout",
          "text": [
            "\n",
            "Masukkan bilangan skalar: \n",
            "2\n",
            "\n",
            "Masukkan angka pada matriks: \n",
            "1\n",
            "2\n",
            "3\n",
            "4\n",
            "Matriks\n",
            "1 2 \n",
            "3 4 \n"
          ]
        }
      ]
    },
    {
      "cell_type": "code",
      "source": [
        "print('Hasil Perkalian Skalar: ')\n",
        "\n",
        "#Melakukan looping perkalian pada matriks\n",
        "for x in range(0, len(mat)):\n",
        "  for y in range(0, len(mat[0])):   \n",
        "    #Rumus perkalian skalar\n",
        "      print(mat[x][y] * skalar, end=' '),\n",
        "      print()"
      ],
      "metadata": {
        "colab": {
          "base_uri": "https://localhost:8080/"
        },
        "id": "pS0uvAsmxyys",
        "outputId": "ebc83f34-1178-4835-b56e-3097cb1d240f"
      },
      "execution_count": 87,
      "outputs": [
        {
          "output_type": "stream",
          "name": "stdout",
          "text": [
            "Hasil Perkalian Skalar: \n",
            "2 \n",
            "4 \n",
            "6 \n",
            "8 \n"
          ]
        }
      ]
    },
    {
      "cell_type": "markdown",
      "source": [
        "**2. PERKALIAN MATRIKS DAN MATRIKS BERORDO**"
      ],
      "metadata": {
        "id": "RSNDGALnu0ZL"
      }
    },
    {
      "cell_type": "code",
      "source": [
        "#Memasuukan jumlah kolom dan baris yang akan dibuat pada matriks 1\n",
        "b1 = int(input(\"Masukkan jumlah baris matriks 1: \"))\n",
        "k1 = int(input(\"Masukkan jumlah kolom matriks 1: \"))\n",
        "#Memasuukan jumlah kolom dan baris yang akan dibuat pada matriks 1\n",
        "b2 = int(input(\"Masukkan jumlah baris matriks 2: \"))\n",
        "k2 = int(input(\"Masukkan jumlah kolom matriks 2: \"))"
      ],
      "metadata": {
        "colab": {
          "base_uri": "https://localhost:8080/"
        },
        "id": "i5IT4lIpVc5j",
        "outputId": "3fac2afc-70b8-4cd8-d643-82e90919d140"
      },
      "execution_count": 53,
      "outputs": [
        {
          "name": "stdout",
          "output_type": "stream",
          "text": [
            "Masukkan jumlah baris matriks 1: 3\n",
            "Masukkan jumlah kolom matriks 1: 3\n",
            "Masukkan jumlah baris matriks 2: 3\n",
            "Masukkan jumlah kolom matriks 2: 3\n"
          ]
        }
      ]
    },
    {
      "cell_type": "code",
      "source": [
        "# MEMASUKKAN SEMUA NILAI MATRIKS 1 DAN 2\n",
        "mat1 = [] #Array untuk menyimpan angka pada matriks 1\n",
        "mat2 = [] #Array untuk menyimpan angka pada matriks 2\n",
        "\n",
        "hasil = [] #Array untuk menyimpan hasil dari perkalian matriks\n",
        "\n",
        "# Looping untuk memasukkan angka pada matriks 1\n",
        "print(\"\\nMasukkan Angka pada matriks 1: \")\n",
        "\n",
        "for i in range(b1): #looping untuk memasukan angka pada baris matriks 1\n",
        "        g=[] # array untuk menyimpan angka yang dimasukkan pada baris\n",
        "        for j in range(k1): #looping untuk memasukkan angka pada kolom matriks 1\n",
        "            g.append(int(input())) # Memasukkan angka pada urutan selanjutnya\n",
        "        mat1.append(g)\n",
        "\n",
        "# Digunakan unutk menuliskan angka-angka yang telah diinputkan dalam bentuk matriks\n",
        "print(\"Matriks 1\")\n",
        "for i in range(b1): \n",
        "        for j in range(k1): \n",
        "            print(mat1[i][j], end = \" \") \n",
        "        print() \n",
        "\n",
        "# Looping untuk memasukkan angka pada matriks 2111\n",
        "print(\"\\nMasukkan angka pada matriks 2: \")\n",
        "\n",
        "for i in range(b2):\n",
        "        h=[]\n",
        "        for j in range(k2):\n",
        "            h.append(int(input()))\n",
        "        mat2.append(h)\n",
        "\n",
        "print(\"Matriks 2\")\n",
        "for i in range(b2): \n",
        "        for j in range(k2): \n",
        "            print(mat2[i][j], end = \" \") \n",
        "        print() "
      ],
      "metadata": {
        "colab": {
          "base_uri": "https://localhost:8080/"
        },
        "id": "ZAuB1IwCVChj",
        "outputId": "a373833f-edbd-4aef-f32c-009df096b732"
      },
      "execution_count": 54,
      "outputs": [
        {
          "output_type": "stream",
          "name": "stdout",
          "text": [
            "\n",
            "Masukkan Angka pada matriks 1: \n",
            "1\n",
            "1\n",
            "1\n",
            "1\n",
            "1\n",
            "1\n",
            "1\n",
            "1\n",
            "1\n",
            "Matriks 1\n",
            "1 1 1 \n",
            "1 1 1 \n",
            "1 1 1 \n",
            "\n",
            "Masukkan angka pada matriks 2: \n",
            "1\n",
            "1\n",
            "1\n",
            "1\n",
            "1\n",
            "1\n",
            "1\n",
            "1\n",
            "1\n",
            "Matriks 2\n",
            "1 1 1 \n",
            "1 1 1 \n",
            "1 1 1 \n"
          ]
        }
      ]
    },
    {
      "cell_type": "code",
      "source": [
        "# Looping untuk pemetaan perkalian baris dan kolom pada matriks\n",
        "# Membuat perulangan sebanyak baris matriks 1\n",
        "for r in range(b1):\n",
        "        u=[]\n",
        "        # Membuat perulangan sebanyak kolom matriks 2\n",
        "        for s in range(k2):\n",
        "            u.append(int(0))\n",
        "        hasil.append(u)\n",
        "\n",
        "for r in range(b1): \n",
        "        for s in range(k2): \n",
        "            hasil[r][s]\n",
        "\n",
        "print(\"\\nHasil Perkalian Matriksnya: \\n\")\n",
        "\n",
        "\n",
        "# Looping baris pada matriks 1\n",
        "for x in range(len(mat1)):\n",
        "  # Looping kolom pada matriks 2\n",
        "  for y in range(len(mat2[0])):\n",
        "    #Looping baris pada matriks 2\n",
        "    for z in range(len(mat2)):\n",
        "      #Rumus perkalian dari matriks\n",
        "      hasil[x][y] += mat1[x][z] * mat2[z][y]\n",
        "\n",
        "for r in hasil:\n",
        "        print(r)"
      ],
      "metadata": {
        "colab": {
          "base_uri": "https://localhost:8080/"
        },
        "id": "P5ISV59sZnYg",
        "outputId": "7ec77990-dfa7-49ff-d235-9fde1b5cae23"
      },
      "execution_count": 55,
      "outputs": [
        {
          "output_type": "stream",
          "name": "stdout",
          "text": [
            "\n",
            "Hasil Perkalian Matriksnya: \n",
            "\n",
            "[3, 3, 3]\n",
            "[3, 3, 3]\n",
            "[3, 3, 3]\n"
          ]
        }
      ]
    }
  ]
}