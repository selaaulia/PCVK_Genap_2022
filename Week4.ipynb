{
  "nbformat": 4,
  "nbformat_minor": 0,
  "metadata": {
    "colab": {
      "name": "Week4",
      "provenance": [],
      "mount_file_id": "1APmGuB4IapwXvJqMoZ4gGpQPI8Oudb4w",
      "authorship_tag": "ABX9TyPX1k11ADGOJJRgLJ4UoXwK",
      "include_colab_link": true
    },
    "kernelspec": {
      "name": "python3",
      "display_name": "Python 3"
    },
    "language_info": {
      "name": "python"
    }
  },
  "cells": [
    {
      "cell_type": "markdown",
      "metadata": {
        "id": "view-in-github",
        "colab_type": "text"
      },
      "source": [
        "<a href=\"https://colab.research.google.com/github/selaaulia/PCVK_Genap_2022/blob/main/Week4.ipynb\" target=\"_parent\"><img src=\"https://colab.research.google.com/assets/colab-badge.svg\" alt=\"Open In Colab\"/></a>"
      ]
    },
    {
      "cell_type": "markdown",
      "source": [
        "**Tugas Praktikum**"
      ],
      "metadata": {
        "id": "_8MypyyWI_40"
      }
    },
    {
      "cell_type": "code",
      "source": [
        "# Mengakses drive\n",
        "\n",
        "from google.colab import drive\n",
        "drive.mount('/content/drive')"
      ],
      "metadata": {
        "colab": {
          "base_uri": "https://localhost:8080/"
        },
        "id": "VhA3uaqVME6S",
        "outputId": "5ee89480-789c-4659-8ae0-bfd736480570"
      },
      "execution_count": 2,
      "outputs": [
        {
          "output_type": "stream",
          "name": "stdout",
          "text": [
            "Drive already mounted at /content/drive; to attempt to forcibly remount, call drive.mount(\"/content/drive\", force_remount=True).\n"
          ]
        }
      ]
    },
    {
      "cell_type": "code",
      "source": [
        "# Melakukan import library\n",
        "import cv2 as cv \n",
        "from google.colab.patches import cv2_imshow \n",
        "from skimage import io \n",
        "import matplotlib.pyplot as plt \n",
        "import numpy as np \n",
        "\n",
        "# Import foto dari drive\n",
        "\n",
        "img_f = cv.imread('/content/drive/MyDrive/pcvk/img/female.tiff')\n",
        "img_rgb = cv.cvtColor(img_f,cv.COLOR_BGR2RGB) # konversi channel BGR -> RGB\n",
        "plt.imshow(img_rgb)"
      ],
      "metadata": {
        "id": "Q1GgVY-vMQux"
      },
      "execution_count": 3,
      "outputs": []
    },
    {
      "cell_type": "code",
      "source": [
        "# 1. Praktikum 1\n",
        "\n",
        "print('Gamma Correction pada citra')\n",
        "print('-----------------------------------')\n",
        "try:\n",
        "  gamma = int (input('Masukkan nilai Gamma: '))\n",
        "except ValueError:\n",
        "  print('Error, not a number')"
      ],
      "metadata": {
        "colab": {
          "base_uri": "https://localhost:8080/"
        },
        "id": "p5n5w48EJHcw",
        "outputId": "16b4aed4-75a9-4f70-a1d5-6ce4418fdc31"
      },
      "execution_count": 1,
      "outputs": [
        {
          "name": "stdout",
          "output_type": "stream",
          "text": [
            "Gamma Correction pada citra\n",
            "-----------------------------------\n",
            "Masukkan nilai Gamma: 3\n"
          ]
        }
      ]
    },
    {
      "cell_type": "code",
      "source": [
        "# Tugas Praktikum 3\n",
        "\n",
        "cv_img = []\n",
        "for img in glob.glob(''):\n",
        " n= cv.imread(img)\n",
        " cv_img.append(n)"
      ],
      "metadata": {
        "id": "KXYmqz0eLcFp"
      },
      "execution_count": null,
      "outputs": []
    }
  ]
}