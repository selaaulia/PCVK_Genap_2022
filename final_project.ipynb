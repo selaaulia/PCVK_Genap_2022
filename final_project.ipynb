{
  "nbformat": 4,
  "nbformat_minor": 0,
  "metadata": {
    "colab": {
      "name": "final_project.ipynb",
      "provenance": [],
      "collapsed_sections": [],
      "include_colab_link": true
    },
    "kernelspec": {
      "name": "python3",
      "display_name": "Python 3"
    },
    "language_info": {
      "name": "python"
    }
  },
  "cells": [
    {
      "cell_type": "markdown",
      "metadata": {
        "id": "view-in-github",
        "colab_type": "text"
      },
      "source": [
        "<a href=\"https://colab.research.google.com/github/selaaulia/PCVK_Genap_2022/blob/main/final_project.ipynb\" target=\"_parent\"><img src=\"https://colab.research.google.com/assets/colab-badge.svg\" alt=\"Open In Colab\"/></a>"
      ]
    },
    {
      "cell_type": "code",
      "execution_count": 1,
      "metadata": {
        "colab": {
          "base_uri": "https://localhost:8080/"
        },
        "id": "5E19qWyhdp_m",
        "outputId": "1f7f8b74-8530-452e-ac68-70ddc21cf824"
      },
      "outputs": [
        {
          "output_type": "stream",
          "name": "stdout",
          "text": [
            "Mounted at /content/drive\n"
          ]
        }
      ],
      "source": [
        "from google.colab import drive\n",
        "\n",
        "# Accessing My Google Drive\n",
        "drive.mount('/content/drive')"
      ]
    },
    {
      "cell_type": "code",
      "source": [
        "# Import library yang dibutuhkan\n",
        "import cv2 as cv\n",
        "import numpy as np\n",
        "from matplotlib import pyplot as plt\n",
        "import pandas as pd\n",
        "from google.colab.patches import cv2_imshow\n",
        "import glob\n",
        "from sklearn.neighbors import KNeighborsClassifier # library yang digunakan untuk mengimplementasikan metode knn\n",
        "from sklearn.metrics import accuracy_score # library yang digunakan untuk menghitung akurasi hasil"
      ],
      "metadata": {
        "id": "KMM6HTKjl8qs"
      },
      "execution_count": 2,
      "outputs": []
    },
    {
      "cell_type": "code",
      "source": [
        "# Fungsi untuk load image dari drive lalu resize image menjadi setengah dari image asli, \n",
        "# kemudian kumpulan image dimasukkan ke dalam array\n",
        "def load_image(array_image, path, color):\n",
        "  for img in glob.glob(path):\n",
        "    n = cv.imread(img, color)\n",
        "    \n",
        "    # mengubah size gambar menjadi setengah ukuran sebenarnya\n",
        "    scale_percent = 50 # percent of original size\n",
        "    width = int(n.shape[1] * scale_percent / 100)\n",
        "    height = int(n.shape[0] * scale_percent / 100)\n",
        "    dim = (width, height)\n",
        "    n = cv.resize(n, dim)\n",
        "    array_image.append(n)\n",
        "  return array_image"
      ],
      "metadata": {
        "id": "LH5OkGj2nCH7"
      },
      "execution_count": 3,
      "outputs": []
    },
    {
      "cell_type": "code",
      "source": [
        "# Load semua dataset\n",
        "all_daun1 = []\n",
        "all_daun2 = []\n",
        "all_daun3 = []\n",
        "all_image = [all_daun1, all_daun2, all_daun3]\n",
        "\n",
        "path_daun1 = '/content/drive/MyDrive/POLINEMA/Semester_6/PCVK/Final_Project/Leaf Images 01/Acer_Capillipes/*.jpg'\n",
        "path_daun2 = '/content/drive/MyDrive/POLINEMA/Semester_6/PCVK/Final_Project/Leaf Images 01/Acer_Circinatum/*.jpg'\n",
        "path_daun3 = '/content/drive/MyDrive/POLINEMA/Semester_6/PCVK/Final_Project/Leaf Images 01/Castanea_Sativa/*.jpg'\n",
        "path_image = [path_daun1, path_daun2, path_daun3]\n",
        "\n",
        "for i in range(3):\n",
        "  load_image(all_image[i], path_image[i], 0)"
      ],
      "metadata": {
        "id": "Goo_aDwjn9zd"
      },
      "execution_count": 4,
      "outputs": []
    },
    {
      "cell_type": "code",
      "source": [
        "# Bagi dataset menjadi 75% data train dari awal dataset\n",
        "train_daun1 = []\n",
        "train_daun2 = []\n",
        "train_daun3 = []\n",
        "train_image = [train_daun1, train_daun2, train_daun3]\n",
        "\n",
        "train_size = int(len(all_image[0]) * 0.75)\n",
        "for i in range(len(all_image)):\n",
        "  for j in range(train_size):\n",
        "    train_image[i].append(all_image[i][j])"
      ],
      "metadata": {
        "id": "waclLxLZoTNa"
      },
      "execution_count": 5,
      "outputs": []
    },
    {
      "cell_type": "code",
      "source": [
        "# Bagi dataset menjadi 25% data test dari akhir dataset\n",
        "test_daun1 = []\n",
        "test_daun2 = []\n",
        "test_daun3 = []\n",
        "test_daun1_gray = []\n",
        "test_daun2_gray = []\n",
        "test_daun3_gray = []\n",
        "test_images_gray = [test_daun1_gray, test_daun2_gray, test_daun3_gray]\n",
        "test_images = [test_daun1, test_daun2, test_daun3]\n",
        "\n",
        "test_size = int(len(all_image[0]) * 0.25)\n",
        "for i in range(len(all_image)):\n",
        "  for j in range(train_size, len(all_image[0])):\n",
        "    test_images_gray[i].append(all_image[i][j])\n",
        "    test_images[i].append(all_image[i][j])"
      ],
      "metadata": {
        "id": "mAOgIj7toXG8"
      },
      "execution_count": 6,
      "outputs": []
    },
    {
      "cell_type": "code",
      "source": [
        "cv2_imshow(train_image[0][1])"
      ],
      "metadata": {
        "colab": {
          "base_uri": "https://localhost:8080/",
          "height": 220
        },
        "id": "PIGXNtF1q3tX",
        "outputId": "34be61a3-a40f-4c50-c9fe-cf77793ddf6a"
      },
      "execution_count": 7,
      "outputs": [
        {
          "output_type": "display_data",
          "data": {
            "text/plain": [
              "<PIL.Image.Image image mode=L size=310x203 at 0x7F53A9D3D150>"
            ],
            "image/png": "[encoded data removed]"
          },
          "metadata": {}
        }
      ]
    },
    {
      "cell_type": "code",
      "source": [
        "# Ekstraksi data dengan deteksi tepi gambar daun menggunakan canny\n",
        "edged_daun = train_image.copy()\n",
        "for i in range(len(edged_daun)): #menentukan folder\n",
        "  for j in range(len(edged_daun[0])): #menentukan gambar train pd folder\n",
        "    edged_daun[i][j] = cv.Canny(edged_daun[i][j], 30, 200) # 30 untuk batas minimal threshold dan 200 batas maks seperti js 11\n",
        "\n",
        "edged_test = test_images_gray.copy()\n",
        "for i in range(len(edged_test)):\n",
        "  for j in range(len(edged_test[0])):\n",
        "    edged_test[i][j] = cv.Canny(edged_test[i][j], 30, 200)"
      ],
      "metadata": {
        "id": "0u5eSia-rSUM"
      },
      "execution_count": 8,
      "outputs": []
    },
    {
      "cell_type": "code",
      "source": [
        "cv2_imshow(edged_daun[0][1])"
      ],
      "metadata": {
        "id": "cB4QE99grbQR",
        "outputId": "076ba182-14a6-4cc4-b8f3-53d00e3c47cb",
        "colab": {
          "base_uri": "https://localhost:8080/",
          "height": 220
        }
      },
      "execution_count": 9,
      "outputs": [
        {
          "output_type": "display_data",
          "data": {
            "text/plain": [
              "<PIL.Image.Image image mode=L size=310x203 at 0x7F53A9D3DF90>"
            ],
            "image/png": "[encoded data removed]"
          },
          "metadata": {}
        }
      ]
    },
    {
      "cell_type": "code",
      "source": [
        "# Menghitung area daun pada setiap data train\n",
        "# membuat array untuk menyimpan data yang telah terdeteksi daunnya\n",
        "area_daun1 = [0] * len(edged_daun[0])\n",
        "area_daun2 = [0] * len(edged_daun[0])\n",
        "area_daun3 = [0] * len(edged_daun[0])\n",
        "\n",
        "for i in range(len(edged_daun)):\n",
        "  for j in range(len(edged_daun[0])):\n",
        "    for y in range(edged_daun[i][j].shape[0]):\n",
        "      for x in range(edged_daun[i][j].shape[1]):\n",
        "        # mengambil data bernilai lebih dari 0, 1 = putih\n",
        "        if(edged_daun[i][j][y][x] > 0):\n",
        "          if(i == 0):\n",
        "            area_daun1[j] += 1\n",
        "          elif(i == 1):\n",
        "            area_daun2[j] += 1\n",
        "          else:\n",
        "            area_daun3[j] += 1"
      ],
      "metadata": {
        "id": "T9Dvq9jQsPTK"
      },
      "execution_count": 10,
      "outputs": []
    },
    {
      "cell_type": "code",
      "source": [
        "# Membuat data train dengan label dari data area bentuk daun\n",
        "label1 = [0] * len(area_daun1)\n",
        "label2 = [1] * len(area_daun2)\n",
        "label3 = [2] * len(area_daun3)\n",
        "\n",
        "data1 = np.stack((area_daun1, label1), axis=1)\n",
        "data2 = np.stack((area_daun2, label2), axis=1)\n",
        "data3 = np.stack((area_daun3, label3), axis=1)\n",
        "\n",
        "df = pd.DataFrame(data1, columns=[\"Area\", \"Label\"])\n",
        "df1 = pd.DataFrame(data2, columns=[\"Area\", \"Label\"])\n",
        "df2 = pd.DataFrame(data3, columns=[\"Area\", \"Label\"])\n",
        "\n",
        "df = df.append(df1)\n",
        "df = df.append(df2)\n",
        "\n",
        "print(\"Data Train : \")\n",
        "df"
      ],
      "metadata": {
        "id": "4c04PeeGsSPb",
        "outputId": "b6cfabac-fdbb-4633-b5bf-26e2f79cc55e",
        "colab": {
          "base_uri": "https://localhost:8080/",
          "height": 1000
        }
      },
      "execution_count": 11,
      "outputs": [
        {
          "output_type": "stream",
          "name": "stdout",
          "text": [
            "Data Train : \n"
          ]
        },
        {
          "output_type": "execute_result",
          "data": {
            "text/plain": [
              "    Area  Label\n",
              "0    920      0\n",
              "1    910      0\n",
              "2    922      0\n",
              "3    921      0\n",
              "4    925      0\n",
              "5    914      0\n",
              "6    927      0\n",
              "7    944      0\n",
              "8    939      0\n",
              "9    920      0\n",
              "10   907      0\n",
              "11   912      0\n",
              "0   1230      1\n",
              "1   1646      1\n",
              "2   1461      1\n",
              "3   1429      1\n",
              "4   1886      1\n",
              "5   1390      1\n",
              "6   1596      1\n",
              "7   1576      1\n",
              "8   1502      1\n",
              "9   1460      1\n",
              "10  1416      1\n",
              "11  1516      1\n",
              "0   2692      2\n",
              "1   1815      2\n",
              "2   2147      2\n",
              "3   2294      2\n",
              "4   1996      2\n",
              "5   2219      2\n",
              "6   2198      2\n",
              "7   1691      2\n",
              "8   2480      2\n",
              "9   2656      2\n",
              "10  2319      2\n",
              "11  2329      2"
            ],
            "text/html": [
              "\n",
              "  <div id=\"df-1b37c7d1-0bc7-4d23-a1b8-a58eebb7c566\">\n",
              "    <div class=\"colab-df-container\">\n",
              "      <div>\n",
              "<style scoped>\n",
              "    .dataframe tbody tr th:only-of-type {\n",
              "        vertical-align: middle;\n",
              "    }\n",
              "\n",
              "    .dataframe tbody tr th {\n",
              "        vertical-align: top;\n",
              "    }\n",
              "\n",
              "    .dataframe thead th {\n",
              "        text-align: right;\n",
              "    }\n",
              "</style>\n",
              "<table border=\"1\" class=\"dataframe\">\n",
              "  <thead>\n",
              "    <tr style=\"text-align: right;\">\n",
              "      <th></th>\n",
              "      <th>Area</th>\n",
              "      <th>Label</th>\n",
              "    </tr>\n",
              "  </thead>\n",
              "  <tbody>\n",
              "    <tr>\n",
              "      <th>0</th>\n",
              "      <td>920</td>\n",
              "      <td>0</td>\n",
              "    </tr>\n",
              "    <tr>\n",
              "      <th>1</th>\n",
              "      <td>910</td>\n",
              "      <td>0</td>\n",
              "    </tr>\n",
              "    <tr>\n",
              "      <th>2</th>\n",
              "      <td>922</td>\n",
              "      <td>0</td>\n",
              "    </tr>\n",
              "    <tr>\n",
              "      <th>3</th>\n",
              "      <td>921</td>\n",
              "      <td>0</td>\n",
              "    </tr>\n",
              "    <tr>\n",
              "      <th>4</th>\n",
              "      <td>925</td>\n",
              "      <td>0</td>\n",
              "    </tr>\n",
              "    <tr>\n",
              "      <th>5</th>\n",
              "      <td>914</td>\n",
              "      <td>0</td>\n",
              "    </tr>\n",
              "    <tr>\n",
              "      <th>6</th>\n",
              "      <td>927</td>\n",
              "      <td>0</td>\n",
              "    </tr>\n",
              "    <tr>\n",
              "      <th>7</th>\n",
              "      <td>944</td>\n",
              "      <td>0</td>\n",
              "    </tr>\n",
              "    <tr>\n",
              "      <th>8</th>\n",
              "      <td>939</td>\n",
              "      <td>0</td>\n",
              "    </tr>\n",
              "    <tr>\n",
              "      <th>9</th>\n",
              "      <td>920</td>\n",
              "      <td>0</td>\n",
              "    </tr>\n",
              "    <tr>\n",
              "      <th>10</th>\n",
              "      <td>907</td>\n",
              "      <td>0</td>\n",
              "    </tr>\n",
              "    <tr>\n",
              "      <th>11</th>\n",
              "      <td>912</td>\n",
              "      <td>0</td>\n",
              "    </tr>\n",
              "    <tr>\n",
              "      <th>0</th>\n",
              "      <td>1230</td>\n",
              "      <td>1</td>\n",
              "    </tr>\n",
              "    <tr>\n",
              "      <th>1</th>\n",
              "      <td>1646</td>\n",
              "      <td>1</td>\n",
              "    </tr>\n",
              "    <tr>\n",
              "      <th>2</th>\n",
              "      <td>1461</td>\n",
              "      <td>1</td>\n",
              "    </tr>\n",
              "    <tr>\n",
              "      <th>3</th>\n",
              "      <td>1429</td>\n",
              "      <td>1</td>\n",
              "    </tr>\n",
              "    <tr>\n",
              "      <th>4</th>\n",
              "      <td>1886</td>\n",
              "      <td>1</td>\n",
              "    </tr>\n",
              "    <tr>\n",
              "      <th>5</th>\n",
              "      <td>1390</td>\n",
              "      <td>1</td>\n",
              "    </tr>\n",
              "    <tr>\n",
              "      <th>6</th>\n",
              "      <td>1596</td>\n",
              "      <td>1</td>\n",
              "    </tr>\n",
              "    <tr>\n",
              "      <th>7</th>\n",
              "      <td>1576</td>\n",
              "      <td>1</td>\n",
              "    </tr>\n",
              "    <tr>\n",
              "      <th>8</th>\n",
              "      <td>1502</td>\n",
              "      <td>1</td>\n",
              "    </tr>\n",
              "    <tr>\n",
              "      <th>9</th>\n",
              "      <td>1460</td>\n",
              "      <td>1</td>\n",
              "    </tr>\n",
              "    <tr>\n",
              "      <th>10</th>\n",
              "      <td>1416</td>\n",
              "      <td>1</td>\n",
              "    </tr>\n",
              "    <tr>\n",
              "      <th>11</th>\n",
              "      <td>1516</td>\n",
              "      <td>1</td>\n",
              "    </tr>\n",
              "    <tr>\n",
              "      <th>0</th>\n",
              "      <td>2692</td>\n",
              "      <td>2</td>\n",
              "    </tr>\n",
              "    <tr>\n",
              "      <th>1</th>\n",
              "      <td>1815</td>\n",
              "      <td>2</td>\n",
              "    </tr>\n",
              "    <tr>\n",
              "      <th>2</th>\n",
              "      <td>2147</td>\n",
              "      <td>2</td>\n",
              "    </tr>\n",
              "    <tr>\n",
              "      <th>3</th>\n",
              "      <td>2294</td>\n",
              "      <td>2</td>\n",
              "    </tr>\n",
              "    <tr>\n",
              "      <th>4</th>\n",
              "      <td>1996</td>\n",
              "      <td>2</td>\n",
              "    </tr>\n",
              "    <tr>\n",
              "      <th>5</th>\n",
              "      <td>2219</td>\n",
              "      <td>2</td>\n",
              "    </tr>\n",
              "    <tr>\n",
              "      <th>6</th>\n",
              "      <td>2198</td>\n",
              "      <td>2</td>\n",
              "    </tr>\n",
              "    <tr>\n",
              "      <th>7</th>\n",
              "      <td>1691</td>\n",
              "      <td>2</td>\n",
              "    </tr>\n",
              "    <tr>\n",
              "      <th>8</th>\n",
              "      <td>2480</td>\n",
              "      <td>2</td>\n",
              "    </tr>\n",
              "    <tr>\n",
              "      <th>9</th>\n",
              "      <td>2656</td>\n",
              "      <td>2</td>\n",
              "    </tr>\n",
              "    <tr>\n",
              "      <th>10</th>\n",
              "      <td>2319</td>\n",
              "      <td>2</td>\n",
              "    </tr>\n",
              "    <tr>\n",
              "      <th>11</th>\n",
              "      <td>2329</td>\n",
              "      <td>2</td>\n",
              "    </tr>\n",
              "  </tbody>\n",
              "</table>\n",
              "</div>\n",
              "      <button class=\"colab-df-convert\" onclick=\"convertToInteractive('df-1b37c7d1-0bc7-4d23-a1b8-a58eebb7c566')\"\n",
              "              title=\"Convert this dataframe to an interactive table.\"\n",
              "              style=\"display:none;\">\n",
              "        \n",
              "  <svg xmlns=\"http://www.w3.org/2000/svg\" height=\"24px\"viewBox=\"0 0 24 24\"\n",
              "       width=\"24px\">\n",
              "    <path d=\"M0 0h24v24H0V0z\" fill=\"none\"/>\n",
              "    <path d=\"M18.56 5.44l.94 2.06.94-2.06 2.06-.94-2.06-.94-.94-2.06-.94 2.06-2.06.94zm-11 1L8.5 8.5l.94-2.06 2.06-.94-2.06-.94L8.5 2.5l-.94 2.06-2.06.94zm10 10l.94 2.06.94-2.06 2.06-.94-2.06-.94-.94-2.06-.94 2.06-2.06.94z\"/><path d=\"M17.41 7.96l-1.37-1.37c-.4-.4-.92-.59-1.43-.59-.52 0-1.04.2-1.43.59L10.3 9.45l-7.72 7.72c-.78.78-.78 2.05 0 2.83L4 21.41c.39.39.9.59 1.41.59.51 0 1.02-.2 1.41-.59l7.78-7.78 2.81-2.81c.8-.78.8-2.07 0-2.86zM5.41 20L4 18.59l7.72-7.72 1.47 1.35L5.41 20z\"/>\n",
              "  </svg>\n",
              "      </button>\n",
              "      \n",
              "  <style>\n",
              "    .colab-df-container {\n",
              "      display:flex;\n",
              "      flex-wrap:wrap;\n",
              "      gap: 12px;\n",
              "    }\n",
              "\n",
              "    .colab-df-convert {\n",
              "      background-color: #E8F0FE;\n",
              "      border: none;\n",
              "      border-radius: 50%;\n",
              "      cursor: pointer;\n",
              "      display: none;\n",
              "      fill: #1967D2;\n",
              "      height: 32px;\n",
              "      padding: 0 0 0 0;\n",
              "      width: 32px;\n",
              "    }\n",
              "\n",
              "    .colab-df-convert:hover {\n",
              "      background-color: #E2EBFA;\n",
              "      box-shadow: 0px 1px 2px rgba(60, 64, 67, 0.3), 0px 1px 3px 1px rgba(60, 64, 67, 0.15);\n",
              "      fill: #174EA6;\n",
              "    }\n",
              "\n",
              "    [theme=dark] .colab-df-convert {\n",
              "      background-color: #3B4455;\n",
              "      fill: #D2E3FC;\n",
              "    }\n",
              "\n",
              "    [theme=dark] .colab-df-convert:hover {\n",
              "      background-color: #434B5C;\n",
              "      box-shadow: 0px 1px 3px 1px rgba(0, 0, 0, 0.15);\n",
              "      filter: drop-shadow(0px 1px 2px rgba(0, 0, 0, 0.3));\n",
              "      fill: #FFFFFF;\n",
              "    }\n",
              "  </style>\n",
              "\n",
              "      <script>\n",
              "        const buttonEl =\n",
              "          document.querySelector('#df-1b37c7d1-0bc7-4d23-a1b8-a58eebb7c566 button.colab-df-convert');\n",
              "        buttonEl.style.display =\n",
              "          google.colab.kernel.accessAllowed ? 'block' : 'none';\n",
              "\n",
              "        async function convertToInteractive(key) {\n",
              "          const element = document.querySelector('#df-1b37c7d1-0bc7-4d23-a1b8-a58eebb7c566');\n",
              "          const dataTable =\n",
              "            await google.colab.kernel.invokeFunction('convertToInteractive',\n",
              "                                                     [key], {});\n",
              "          if (!dataTable) return;\n",
              "\n",
              "          const docLinkHtml = 'Like what you see? Visit the ' +\n",
              "            '<a target=\"_blank\" href=https://colab.research.google.com/notebooks/data_table.ipynb>data table notebook</a>'\n",
              "            + ' to learn more about interactive tables.';\n",
              "          element.innerHTML = '';\n",
              "          dataTable['output_type'] = 'display_data';\n",
              "          await google.colab.output.renderOutput(dataTable, element);\n",
              "          const docLink = document.createElement('div');\n",
              "          docLink.innerHTML = docLinkHtml;\n",
              "          element.appendChild(docLink);\n",
              "        }\n",
              "      </script>\n",
              "    </div>\n",
              "  </div>\n",
              "  "
            ]
          },
          "metadata": {},
          "execution_count": 11
        }
      ]
    },
    {
      "cell_type": "code",
      "source": [
        "# Menentukan dan mengambil x dan y train, x=area, y=label\n",
        "X_train = df.iloc[:,0].values\n",
        "X_train = X_train.reshape(-1,1)\n",
        "Y_train = df.iloc[:,1].values"
      ],
      "metadata": {
        "id": "RuZX67C4t3b7"
      },
      "execution_count": 12,
      "outputs": []
    },
    {
      "cell_type": "code",
      "source": [
        "# Membuat model KNN dan fungsi untuk prediksi daun\n",
        "# prediksi menggunakan label\n",
        "model = KNeighborsClassifier(n_neighbors=3)\n",
        "model.fit(X_train, Y_train)\n",
        "\n",
        "def prediksi_daun_knn(area):\n",
        "  prediction = model.predict(area)\n",
        "  if(prediction == 0):\n",
        "    prediksi = \"Acer_Capillipes\"\n",
        "  elif(prediction == 1):\n",
        "    prediksi = \"Acer_Circinatum\"\n",
        "  else:\n",
        "    prediksi = \"Castanea_Sativa\"\n",
        "  return prediksi"
      ],
      "metadata": {
        "id": "zNNbWCc9uL8K"
      },
      "execution_count": 13,
      "outputs": []
    },
    {
      "cell_type": "code",
      "source": [
        "# Menerapkan fungsi findContours() openCV pada data test\n",
        "contours = [ [ None for y in range( len(edged_test[0]) ) ] for x in range( len(edged_test) ) ]\n",
        "hierarchy = [ [ None for y in range( len(edged_test[0]) ) ] for x in range( len(edged_test) ) ]\n",
        "for i in range(len(edged_test)):\n",
        "  for j in range(len(edged_test[0])):\n",
        "    test_images[i][j] = cv.cvtColor(test_images[i][j], cv.COLOR_GRAY2RGB)\n",
        "    contours[i][j], hierarchy[i][j] = cv.findContours(edged_test[i][j], \n",
        "        cv.RETR_EXTERNAL, cv.CHAIN_APPROX_NONE)\n",
        "    cv.drawContours(test_images[i][j], contours[i][j], -1, (255, 0, 0), 3)"
      ],
      "metadata": {
        "id": "IpnGrj-ju51r"
      },
      "execution_count": 14,
      "outputs": []
    },
    {
      "cell_type": "code",
      "source": [
        "cv2_imshow(test_images[0][1])"
      ],
      "metadata": {
        "id": "AFqagYHGaQP5",
        "outputId": "cfd0be53-9c21-446d-89ce-d683d1931e21",
        "colab": {
          "base_uri": "https://localhost:8080/",
          "height": 202
        }
      },
      "execution_count": 15,
      "outputs": [
        {
          "output_type": "display_data",
          "data": {
            "text/plain": [
              "<PIL.Image.Image image mode=RGB size=355x185 at 0x7F53A9466990>"
            ],
            "image/png": "[encoded data removed]"
          },
          "metadata": {}
        }
      ]
    },
    {
      "cell_type": "code",
      "source": [
        "# Menghitung area data test\n",
        "area = [ [ 0 for y in range( len(edged_test[0]) ) ] for x in range( len(edged_test) ) ]\n",
        "\n",
        "for i in range(len(edged_test)):\n",
        "  for j in range(len(edged_test[0])):\n",
        "    for y in range(edged_test[i][j].shape[0]):\n",
        "      for x in range(edged_test[i][j].shape[1]):\n",
        "        if(edged_test[i][j][y][x] > 0):\n",
        "          area[i][j] += 1"
      ],
      "metadata": {
        "id": "nfKXPlp2aZFE"
      },
      "execution_count": 16,
      "outputs": []
    },
    {
      "cell_type": "code",
      "source": [
        "# Membuat data test dengan label dari data area bentuk daun\n",
        "label1 = [0] * len(area[0])\n",
        "label2 = [1] * len(area[0])\n",
        "label3 = [2] * len(area[0])\n",
        "\n",
        "label = np.concatenate((label1, label2))\n",
        "label = np.concatenate((label, label3))\n",
        "\n",
        "data = []\n",
        "for i in range(len(area)):\n",
        "  for j in range(len(area[0])):\n",
        "    data.append(area[i][j])\n",
        "\n",
        "data = np.stack((data, label), axis=1)\n",
        "df_test = pd.DataFrame(data, columns=[\"Area\", \"Label\"])\n",
        "df_test"
      ],
      "metadata": {
        "id": "ImbhNY3UapRm",
        "outputId": "6916d1e2-ba78-4f82-f342-4dd3ae0e081a",
        "colab": {
          "base_uri": "https://localhost:8080/",
          "height": 426
        }
      },
      "execution_count": 17,
      "outputs": [
        {
          "output_type": "execute_result",
          "data": {
            "text/plain": [
              "    Area  Label\n",
              "0    956      0\n",
              "1    943      0\n",
              "2    931      0\n",
              "3    937      0\n",
              "4   1404      1\n",
              "5   1591      1\n",
              "6   1469      1\n",
              "7   1527      1\n",
              "8   2316      2\n",
              "9   1911      2\n",
              "10  2686      2\n",
              "11  1855      2"
            ],
            "text/html": [
              "\n",
              "  <div id=\"df-a7c9f996-489c-4930-9c3f-45e901d1f7c1\">\n",
              "    <div class=\"colab-df-container\">\n",
              "      <div>\n",
              "<style scoped>\n",
              "    .dataframe tbody tr th:only-of-type {\n",
              "        vertical-align: middle;\n",
              "    }\n",
              "\n",
              "    .dataframe tbody tr th {\n",
              "        vertical-align: top;\n",
              "    }\n",
              "\n",
              "    .dataframe thead th {\n",
              "        text-align: right;\n",
              "    }\n",
              "</style>\n",
              "<table border=\"1\" class=\"dataframe\">\n",
              "  <thead>\n",
              "    <tr style=\"text-align: right;\">\n",
              "      <th></th>\n",
              "      <th>Area</th>\n",
              "      <th>Label</th>\n",
              "    </tr>\n",
              "  </thead>\n",
              "  <tbody>\n",
              "    <tr>\n",
              "      <th>0</th>\n",
              "      <td>956</td>\n",
              "      <td>0</td>\n",
              "    </tr>\n",
              "    <tr>\n",
              "      <th>1</th>\n",
              "      <td>943</td>\n",
              "      <td>0</td>\n",
              "    </tr>\n",
              "    <tr>\n",
              "      <th>2</th>\n",
              "      <td>931</td>\n",
              "      <td>0</td>\n",
              "    </tr>\n",
              "    <tr>\n",
              "      <th>3</th>\n",
              "      <td>937</td>\n",
              "      <td>0</td>\n",
              "    </tr>\n",
              "    <tr>\n",
              "      <th>4</th>\n",
              "      <td>1404</td>\n",
              "      <td>1</td>\n",
              "    </tr>\n",
              "    <tr>\n",
              "      <th>5</th>\n",
              "      <td>1591</td>\n",
              "      <td>1</td>\n",
              "    </tr>\n",
              "    <tr>\n",
              "      <th>6</th>\n",
              "      <td>1469</td>\n",
              "      <td>1</td>\n",
              "    </tr>\n",
              "    <tr>\n",
              "      <th>7</th>\n",
              "      <td>1527</td>\n",
              "      <td>1</td>\n",
              "    </tr>\n",
              "    <tr>\n",
              "      <th>8</th>\n",
              "      <td>2316</td>\n",
              "      <td>2</td>\n",
              "    </tr>\n",
              "    <tr>\n",
              "      <th>9</th>\n",
              "      <td>1911</td>\n",
              "      <td>2</td>\n",
              "    </tr>\n",
              "    <tr>\n",
              "      <th>10</th>\n",
              "      <td>2686</td>\n",
              "      <td>2</td>\n",
              "    </tr>\n",
              "    <tr>\n",
              "      <th>11</th>\n",
              "      <td>1855</td>\n",
              "      <td>2</td>\n",
              "    </tr>\n",
              "  </tbody>\n",
              "</table>\n",
              "</div>\n",
              "      <button class=\"colab-df-convert\" onclick=\"convertToInteractive('df-a7c9f996-489c-4930-9c3f-45e901d1f7c1')\"\n",
              "              title=\"Convert this dataframe to an interactive table.\"\n",
              "              style=\"display:none;\">\n",
              "        \n",
              "  <svg xmlns=\"http://www.w3.org/2000/svg\" height=\"24px\"viewBox=\"0 0 24 24\"\n",
              "       width=\"24px\">\n",
              "    <path d=\"M0 0h24v24H0V0z\" fill=\"none\"/>\n",
              "    <path d=\"M18.56 5.44l.94 2.06.94-2.06 2.06-.94-2.06-.94-.94-2.06-.94 2.06-2.06.94zm-11 1L8.5 8.5l.94-2.06 2.06-.94-2.06-.94L8.5 2.5l-.94 2.06-2.06.94zm10 10l.94 2.06.94-2.06 2.06-.94-2.06-.94-.94-2.06-.94 2.06-2.06.94z\"/><path d=\"M17.41 7.96l-1.37-1.37c-.4-.4-.92-.59-1.43-.59-.52 0-1.04.2-1.43.59L10.3 9.45l-7.72 7.72c-.78.78-.78 2.05 0 2.83L4 21.41c.39.39.9.59 1.41.59.51 0 1.02-.2 1.41-.59l7.78-7.78 2.81-2.81c.8-.78.8-2.07 0-2.86zM5.41 20L4 18.59l7.72-7.72 1.47 1.35L5.41 20z\"/>\n",
              "  </svg>\n",
              "      </button>\n",
              "      \n",
              "  <style>\n",
              "    .colab-df-container {\n",
              "      display:flex;\n",
              "      flex-wrap:wrap;\n",
              "      gap: 12px;\n",
              "    }\n",
              "\n",
              "    .colab-df-convert {\n",
              "      background-color: #E8F0FE;\n",
              "      border: none;\n",
              "      border-radius: 50%;\n",
              "      cursor: pointer;\n",
              "      display: none;\n",
              "      fill: #1967D2;\n",
              "      height: 32px;\n",
              "      padding: 0 0 0 0;\n",
              "      width: 32px;\n",
              "    }\n",
              "\n",
              "    .colab-df-convert:hover {\n",
              "      background-color: #E2EBFA;\n",
              "      box-shadow: 0px 1px 2px rgba(60, 64, 67, 0.3), 0px 1px 3px 1px rgba(60, 64, 67, 0.15);\n",
              "      fill: #174EA6;\n",
              "    }\n",
              "\n",
              "    [theme=dark] .colab-df-convert {\n",
              "      background-color: #3B4455;\n",
              "      fill: #D2E3FC;\n",
              "    }\n",
              "\n",
              "    [theme=dark] .colab-df-convert:hover {\n",
              "      background-color: #434B5C;\n",
              "      box-shadow: 0px 1px 3px 1px rgba(0, 0, 0, 0.15);\n",
              "      filter: drop-shadow(0px 1px 2px rgba(0, 0, 0, 0.3));\n",
              "      fill: #FFFFFF;\n",
              "    }\n",
              "  </style>\n",
              "\n",
              "      <script>\n",
              "        const buttonEl =\n",
              "          document.querySelector('#df-a7c9f996-489c-4930-9c3f-45e901d1f7c1 button.colab-df-convert');\n",
              "        buttonEl.style.display =\n",
              "          google.colab.kernel.accessAllowed ? 'block' : 'none';\n",
              "\n",
              "        async function convertToInteractive(key) {\n",
              "          const element = document.querySelector('#df-a7c9f996-489c-4930-9c3f-45e901d1f7c1');\n",
              "          const dataTable =\n",
              "            await google.colab.kernel.invokeFunction('convertToInteractive',\n",
              "                                                     [key], {});\n",
              "          if (!dataTable) return;\n",
              "\n",
              "          const docLinkHtml = 'Like what you see? Visit the ' +\n",
              "            '<a target=\"_blank\" href=https://colab.research.google.com/notebooks/data_table.ipynb>data table notebook</a>'\n",
              "            + ' to learn more about interactive tables.';\n",
              "          element.innerHTML = '';\n",
              "          dataTable['output_type'] = 'display_data';\n",
              "          await google.colab.output.renderOutput(dataTable, element);\n",
              "          const docLink = document.createElement('div');\n",
              "          docLink.innerHTML = docLinkHtml;\n",
              "          element.appendChild(docLink);\n",
              "        }\n",
              "      </script>\n",
              "    </div>\n",
              "  </div>\n",
              "  "
            ]
          },
          "metadata": {},
          "execution_count": 17
        }
      ]
    },
    {
      "cell_type": "code",
      "source": [
        "# Menentukan X dan Y test\n",
        "X_test = df_test.iloc[:,0].values\n",
        "X_test = X_test.reshape(-1,1)\n",
        "Y_test = df_test.iloc[:,1].values"
      ],
      "metadata": {
        "id": "kV8RuhhlatOh"
      },
      "execution_count": 18,
      "outputs": []
    },
    {
      "cell_type": "code",
      "source": [
        "# Prediksi data test menggunakan KNN\n",
        "prediksi = [ [ \"\" for y in range( len(edged_test[0]) ) ] for x in range( len(edged_test) ) ]\n",
        "\n",
        "for i in range(len(prediksi)):\n",
        "  for j in range(len(prediksi[0])):\n",
        "    prediksi[i][j] = prediksi_daun_knn([[area[i][j]]])\n",
        "\n",
        "print('Model Test Accuracy Score : ')\n",
        "print(str(accuracy_score(Y_test, model.predict(X_test)) * 100)+ '%')\n",
        "\n",
        "# Membuat figure\n",
        "fig = plt.figure(figsize=(16, 10))\n",
        "\n",
        "# setting jumlah baris dan kolom sesuai jumlah citra data tes\n",
        "rows = 3\n",
        "columns = 4\n",
        "\n",
        "# add subplot\n",
        "index = 1\n",
        "for i in range(rows):\n",
        "  for j in range(columns):\n",
        "    fig.add_subplot(rows, columns, index)\n",
        "    plt.title(prediksi[i][j])\n",
        "    plt.imshow(test_images[i][j])\n",
        "    plt.xticks([]),plt.yticks([]) \n",
        "    index += 1\n",
        "plt.show()"
      ],
      "metadata": {
        "id": "X2FwzHDUa3oc",
        "outputId": "6e513b3f-1d84-44d1-ab9f-c2861cf2ca8e",
        "colab": {
          "base_uri": "https://localhost:8080/",
          "height": 583
        }
      },
      "execution_count": 19,
      "outputs": [
        {
          "output_type": "stream",
          "name": "stdout",
          "text": [
            "Model Test Accuracy Score : \n",
            "100.0%\n"
          ]
        },
        {
          "output_type": "display_data",
          "data": {
            "text/plain": [
              "<Figure size 1152x720 with 12 Axes>"
            ],
            "image/png": "[encoded data removed]"
          },
          "metadata": {}
        }
      ]
    },
    {
      "cell_type": "code",
      "source": [
        ""
      ],
      "metadata": {
        "id": "FHbvCF3gbQse"
      },
      "execution_count": null,
      "outputs": []
    }
  ]
}